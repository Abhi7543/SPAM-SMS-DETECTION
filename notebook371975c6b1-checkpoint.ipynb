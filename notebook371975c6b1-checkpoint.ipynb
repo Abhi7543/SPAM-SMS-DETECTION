{
 "cells": [
  {
   "cell_type": "code",
   "execution_count": 1,
   "id": "8ba01bad",
   "metadata": {
    "_cell_guid": "b1076dfc-b9ad-4769-8c92-a6c4dae69d19",
    "_uuid": "8f2839f25d086af736a60e9eeb907d3b93b6e0e5",
    "execution": {
     "iopub.execute_input": "2024-04-06T11:12:33.641084Z",
     "iopub.status.busy": "2024-04-06T11:12:33.640391Z",
     "iopub.status.idle": "2024-04-06T11:12:34.561758Z",
     "shell.execute_reply": "2024-04-06T11:12:34.560504Z"
    },
    "papermill": {
     "duration": 0.944915,
     "end_time": "2024-04-06T11:12:34.565061",
     "exception": false,
     "start_time": "2024-04-06T11:12:33.620146",
     "status": "completed"
    },
    "tags": []
   },
   "outputs": [
    {
     "name": "stdout",
     "output_type": "stream",
     "text": [
      "/kaggle/input/sms-spam-collection-dataset/spam.csv\n"
     ]
    }
   ],
   "source": [
    "# This Python 3 environment comes with many helpful analytics libraries installed\n",
    "# It is defined by the kaggle/python Docker image: https://github.com/kaggle/docker-python\n",
    "# For example, here's several helpful packages to load\n",
    "\n",
    "import numpy as np # linear algebra\n",
    "import pandas as pd # data processing, CSV file I/O (e.g. pd.read_csv)\n",
    "\n",
    "# Input data files are available in the read-only \"../input/\" directory\n",
    "# For example, running this (by clicking run or pressing Shift+Enter) will list all files under the input directory\n",
    "\n",
    "import os\n",
    "for dirname, _, filenames in os.walk('/kaggle/input'):\n",
    "    for filename in filenames:\n",
    "        print(os.path.join(dirname, filename))\n",
    "\n",
    "# You can write up to 20GB to the current directory (/kaggle/working/) that gets preserved as output when you create a version using \"Save & Run All\" \n",
    "# You can also write temporary files to /kaggle/temp/, but they won't be saved outside of the current session"
   ]
  },
  {
   "cell_type": "code",
   "execution_count": 2,
   "id": "7e92eec2",
   "metadata": {
    "execution": {
     "iopub.execute_input": "2024-04-06T11:12:34.600468Z",
     "iopub.status.busy": "2024-04-06T11:12:34.599433Z",
     "iopub.status.idle": "2024-04-06T11:12:50.621670Z",
     "shell.execute_reply": "2024-04-06T11:12:50.620667Z"
    },
    "papermill": {
     "duration": 16.042891,
     "end_time": "2024-04-06T11:12:50.624649",
     "exception": false,
     "start_time": "2024-04-06T11:12:34.581758",
     "status": "completed"
    },
    "tags": []
   },
   "outputs": [
    {
     "name": "stdout",
     "output_type": "stream",
     "text": [
      "Requirement already satisfied: gensim in /opt/conda/lib/python3.10/site-packages (4.3.2)\r\n",
      "Requirement already satisfied: numpy>=1.18.5 in /opt/conda/lib/python3.10/site-packages (from gensim) (1.26.4)\r\n",
      "Requirement already satisfied: scipy>=1.7.0 in /opt/conda/lib/python3.10/site-packages (from gensim) (1.11.4)\r\n",
      "Requirement already satisfied: smart-open>=1.8.1 in /opt/conda/lib/python3.10/site-packages (from gensim) (6.4.0)\r\n"
     ]
    }
   ],
   "source": [
    "!pip install gensim"
   ]
  },
  {
   "cell_type": "code",
   "execution_count": 3,
   "id": "72547cae",
   "metadata": {
    "execution": {
     "iopub.execute_input": "2024-04-06T11:12:50.660601Z",
     "iopub.status.busy": "2024-04-06T11:12:50.659985Z",
     "iopub.status.idle": "2024-04-06T11:13:01.352899Z",
     "shell.execute_reply": "2024-04-06T11:13:01.351846Z"
    },
    "papermill": {
     "duration": 10.713941,
     "end_time": "2024-04-06T11:13:01.355685",
     "exception": false,
     "start_time": "2024-04-06T11:12:50.641744",
     "status": "completed"
    },
    "tags": []
   },
   "outputs": [],
   "source": [
    "import gensim\n",
    "from gensim.models import Word2Vec, KeyedVectors"
   ]
  },
  {
   "cell_type": "code",
   "execution_count": 4,
   "id": "6e006df1",
   "metadata": {
    "execution": {
     "iopub.execute_input": "2024-04-06T11:13:01.392987Z",
     "iopub.status.busy": "2024-04-06T11:13:01.392301Z",
     "iopub.status.idle": "2024-04-06T11:18:10.432817Z",
     "shell.execute_reply": "2024-04-06T11:18:10.431274Z"
    },
    "papermill": {
     "duration": 309.063092,
     "end_time": "2024-04-06T11:18:10.435996",
     "exception": false,
     "start_time": "2024-04-06T11:13:01.372904",
     "status": "completed"
    },
    "tags": []
   },
   "outputs": [
    {
     "name": "stdout",
     "output_type": "stream",
     "text": [
      "[==================================================] 100.0% 1662.8/1662.8MB downloaded\n"
     ]
    }
   ],
   "source": [
    "import gensim.downloader as api\n",
    "\n",
    "wv = api.load('word2vec-google-news-300')\n",
    "\n",
    "vec_king = wv['king']"
   ]
  },
  {
   "cell_type": "code",
   "execution_count": 5,
   "id": "92b03a11",
   "metadata": {
    "execution": {
     "iopub.execute_input": "2024-04-06T11:18:40.338537Z",
     "iopub.status.busy": "2024-04-06T11:18:40.338137Z",
     "iopub.status.idle": "2024-04-06T11:18:40.396164Z",
     "shell.execute_reply": "2024-04-06T11:18:40.395078Z"
    },
    "papermill": {
     "duration": 14.992815,
     "end_time": "2024-04-06T11:18:40.399080",
     "exception": false,
     "start_time": "2024-04-06T11:18:25.406265",
     "status": "completed"
    },
    "tags": []
   },
   "outputs": [
    {
     "data": {
      "text/plain": [
       "array([ 1.25976562e-01,  2.97851562e-02,  8.60595703e-03,  1.39648438e-01,\n",
       "       -2.56347656e-02, -3.61328125e-02,  1.11816406e-01, -1.98242188e-01,\n",
       "        5.12695312e-02,  3.63281250e-01, -2.42187500e-01, -3.02734375e-01,\n",
       "       -1.77734375e-01, -2.49023438e-02, -1.67968750e-01, -1.69921875e-01,\n",
       "        3.46679688e-02,  5.21850586e-03,  4.63867188e-02,  1.28906250e-01,\n",
       "        1.36718750e-01,  1.12792969e-01,  5.95703125e-02,  1.36718750e-01,\n",
       "        1.01074219e-01, -1.76757812e-01, -2.51953125e-01,  5.98144531e-02,\n",
       "        3.41796875e-01, -3.11279297e-02,  1.04492188e-01,  6.17675781e-02,\n",
       "        1.24511719e-01,  4.00390625e-01, -3.22265625e-01,  8.39843750e-02,\n",
       "        3.90625000e-02,  5.85937500e-03,  7.03125000e-02,  1.72851562e-01,\n",
       "        1.38671875e-01, -2.31445312e-01,  2.83203125e-01,  1.42578125e-01,\n",
       "        3.41796875e-01, -2.39257812e-02, -1.09863281e-01,  3.32031250e-02,\n",
       "       -5.46875000e-02,  1.53198242e-02, -1.62109375e-01,  1.58203125e-01,\n",
       "       -2.59765625e-01,  2.01416016e-02, -1.63085938e-01,  1.35803223e-03,\n",
       "       -1.44531250e-01, -5.68847656e-02,  4.29687500e-02, -2.46582031e-02,\n",
       "        1.85546875e-01,  4.47265625e-01,  9.58251953e-03,  1.31835938e-01,\n",
       "        9.86328125e-02, -1.85546875e-01, -1.00097656e-01, -1.33789062e-01,\n",
       "       -1.25000000e-01,  2.83203125e-01,  1.23046875e-01,  5.32226562e-02,\n",
       "       -1.77734375e-01,  8.59375000e-02, -2.18505859e-02,  2.05078125e-02,\n",
       "       -1.39648438e-01,  2.51464844e-02,  1.38671875e-01, -1.05468750e-01,\n",
       "        1.38671875e-01,  8.88671875e-02, -7.51953125e-02, -2.13623047e-02,\n",
       "        1.72851562e-01,  4.63867188e-02, -2.65625000e-01,  8.91113281e-03,\n",
       "        1.49414062e-01,  3.78417969e-02,  2.38281250e-01, -1.24511719e-01,\n",
       "       -2.17773438e-01, -1.81640625e-01,  2.97851562e-02,  5.71289062e-02,\n",
       "       -2.89306641e-02,  1.24511719e-02,  9.66796875e-02, -2.31445312e-01,\n",
       "        5.81054688e-02,  6.68945312e-02,  7.08007812e-02, -3.08593750e-01,\n",
       "       -2.14843750e-01,  1.45507812e-01, -4.27734375e-01, -9.39941406e-03,\n",
       "        1.54296875e-01, -7.66601562e-02,  2.89062500e-01,  2.77343750e-01,\n",
       "       -4.86373901e-04, -1.36718750e-01,  3.24218750e-01, -2.46093750e-01,\n",
       "       -3.03649902e-03, -2.11914062e-01,  1.25000000e-01,  2.69531250e-01,\n",
       "        2.04101562e-01,  8.25195312e-02, -2.01171875e-01, -1.60156250e-01,\n",
       "       -3.78417969e-02, -1.20117188e-01,  1.15234375e-01, -4.10156250e-02,\n",
       "       -3.95507812e-02, -8.98437500e-02,  6.34765625e-03,  2.03125000e-01,\n",
       "        1.86523438e-01,  2.73437500e-01,  6.29882812e-02,  1.41601562e-01,\n",
       "       -9.81445312e-02,  1.38671875e-01,  1.82617188e-01,  1.73828125e-01,\n",
       "        1.73828125e-01, -2.37304688e-01,  1.78710938e-01,  6.34765625e-02,\n",
       "        2.36328125e-01, -2.08984375e-01,  8.74023438e-02, -1.66015625e-01,\n",
       "       -7.91015625e-02,  2.43164062e-01, -8.88671875e-02,  1.26953125e-01,\n",
       "       -2.16796875e-01, -1.73828125e-01, -3.59375000e-01, -8.25195312e-02,\n",
       "       -6.49414062e-02,  5.07812500e-02,  1.35742188e-01, -7.47070312e-02,\n",
       "       -1.64062500e-01,  1.15356445e-02,  4.45312500e-01, -2.15820312e-01,\n",
       "       -1.11328125e-01, -1.92382812e-01,  1.70898438e-01, -1.25000000e-01,\n",
       "        2.65502930e-03,  1.92382812e-01, -1.74804688e-01,  1.39648438e-01,\n",
       "        2.92968750e-01,  1.13281250e-01,  5.95703125e-02, -6.39648438e-02,\n",
       "        9.96093750e-02, -2.72216797e-02,  1.96533203e-02,  4.27246094e-02,\n",
       "       -2.46093750e-01,  6.39648438e-02, -2.25585938e-01, -1.68945312e-01,\n",
       "        2.89916992e-03,  8.20312500e-02,  3.41796875e-01,  4.32128906e-02,\n",
       "        1.32812500e-01,  1.42578125e-01,  7.61718750e-02,  5.98144531e-02,\n",
       "       -1.19140625e-01,  2.74658203e-03, -6.29882812e-02, -2.72216797e-02,\n",
       "       -4.82177734e-03, -8.20312500e-02, -2.49023438e-02, -4.00390625e-01,\n",
       "       -1.06933594e-01,  4.24804688e-02,  7.76367188e-02, -1.16699219e-01,\n",
       "        7.37304688e-02, -9.22851562e-02,  1.07910156e-01,  1.58203125e-01,\n",
       "        4.24804688e-02,  1.26953125e-01,  3.61328125e-02,  2.67578125e-01,\n",
       "       -1.01074219e-01, -3.02734375e-01, -5.76171875e-02,  5.05371094e-02,\n",
       "        5.26428223e-04, -2.07031250e-01, -1.38671875e-01, -8.97216797e-03,\n",
       "       -2.78320312e-02, -1.41601562e-01,  2.07031250e-01, -1.58203125e-01,\n",
       "        1.27929688e-01,  1.49414062e-01, -2.24609375e-02, -8.44726562e-02,\n",
       "        1.22558594e-01,  2.15820312e-01, -2.13867188e-01, -3.12500000e-01,\n",
       "       -3.73046875e-01,  4.08935547e-03,  1.07421875e-01,  1.06933594e-01,\n",
       "        7.32421875e-02,  8.97216797e-03, -3.88183594e-02, -1.29882812e-01,\n",
       "        1.49414062e-01, -2.14843750e-01, -1.83868408e-03,  9.91210938e-02,\n",
       "        1.57226562e-01, -1.14257812e-01, -2.05078125e-01,  9.91210938e-02,\n",
       "        3.69140625e-01, -1.97265625e-01,  3.54003906e-02,  1.09375000e-01,\n",
       "        1.31835938e-01,  1.66992188e-01,  2.35351562e-01,  1.04980469e-01,\n",
       "       -4.96093750e-01, -1.64062500e-01, -1.56250000e-01, -5.22460938e-02,\n",
       "        1.03027344e-01,  2.43164062e-01, -1.88476562e-01,  5.07812500e-02,\n",
       "       -9.37500000e-02, -6.68945312e-02,  2.27050781e-02,  7.61718750e-02,\n",
       "        2.89062500e-01,  3.10546875e-01, -5.37109375e-02,  2.28515625e-01,\n",
       "        2.51464844e-02,  6.78710938e-02, -1.21093750e-01, -2.15820312e-01,\n",
       "       -2.73437500e-01, -3.07617188e-02, -3.37890625e-01,  1.53320312e-01,\n",
       "        2.33398438e-01, -2.08007812e-01,  3.73046875e-01,  8.20312500e-02,\n",
       "        2.51953125e-01, -7.61718750e-02, -4.66308594e-02, -2.23388672e-02,\n",
       "        2.99072266e-02, -5.93261719e-02, -4.66918945e-03, -2.44140625e-01,\n",
       "       -2.09960938e-01, -2.87109375e-01, -4.54101562e-02, -1.77734375e-01,\n",
       "       -2.79296875e-01, -8.59375000e-02,  9.13085938e-02,  2.51953125e-01],\n",
       "      dtype=float32)"
      ]
     },
     "execution_count": 5,
     "metadata": {},
     "output_type": "execute_result"
    }
   ],
   "source": [
    "vec_king"
   ]
  },
  {
   "cell_type": "code",
   "execution_count": 6,
   "id": "db368688",
   "metadata": {
    "execution": {
     "iopub.execute_input": "2024-04-06T11:19:10.383954Z",
     "iopub.status.busy": "2024-04-06T11:19:10.383525Z",
     "iopub.status.idle": "2024-04-06T11:19:10.389961Z",
     "shell.execute_reply": "2024-04-06T11:19:10.388897Z"
    },
    "papermill": {
     "duration": 14.874687,
     "end_time": "2024-04-06T11:19:10.392399",
     "exception": false,
     "start_time": "2024-04-06T11:18:55.517712",
     "status": "completed"
    },
    "tags": []
   },
   "outputs": [
    {
     "data": {
      "text/plain": [
       "(300,)"
      ]
     },
     "execution_count": 6,
     "metadata": {},
     "output_type": "execute_result"
    }
   ],
   "source": [
    "vec_king.shape"
   ]
  },
  {
   "cell_type": "code",
   "execution_count": 7,
   "id": "20d9aa20",
   "metadata": {
    "execution": {
     "iopub.execute_input": "2024-04-06T11:19:40.306291Z",
     "iopub.status.busy": "2024-04-06T11:19:40.305476Z",
     "iopub.status.idle": "2024-04-06T11:19:40.356496Z",
     "shell.execute_reply": "2024-04-06T11:19:40.355317Z"
    },
    "papermill": {
     "duration": 15.118136,
     "end_time": "2024-04-06T11:19:40.358936",
     "exception": false,
     "start_time": "2024-04-06T11:19:25.240800",
     "status": "completed"
    },
    "tags": []
   },
   "outputs": [
    {
     "name": "stdout",
     "output_type": "stream",
     "text": [
      "Error with encoding utf-8: 'utf-8' codec can't decode bytes in position 141-142: invalid continuation byte\n",
      "Successfully loaded with encoding: latin1\n",
      "                                               label  message\n",
      "0                                           v1,v2,,,      NaN\n",
      "1  ham,\"Go until jurong point, crazy.. Available ...      NaN\n",
      "2               ham,Ok lar... Joking wif u oni...,,,      NaN\n",
      "3  spam,Free entry in 2 a wkly comp to win FA Cup...      NaN\n",
      "4  ham,U dun say so early hor... U c already then...      NaN\n"
     ]
    }
   ],
   "source": [
    "import pandas as pd\n",
    "\n",
    "# Try different encodings\n",
    "encodings_to_try = ['utf-8', 'latin1', 'iso-8859-1', 'cp1252']\n",
    "\n",
    "for encoding in encodings_to_try:\n",
    "    try:\n",
    "        messages = pd.read_csv('./spam.csv',\n",
    "                               sep='\\t', names=[\"label\",\"message\"], encoding=encoding)\n",
    "        print(f\"Successfully loaded with encoding: {encoding}\")\n",
    "        print(messages.head())\n",
    "        break\n",
    "    except Exception as e:\n",
    "        print(f\"Error with encoding {encoding}: {e}\")\n",
    "\n"
   ]
  },
  {
   "cell_type": "code",
   "execution_count": 8,
   "id": "cd13f456",
   "metadata": {
    "execution": {
     "iopub.execute_input": "2024-04-06T11:20:10.133616Z",
     "iopub.status.busy": "2024-04-06T11:20:10.133009Z",
     "iopub.status.idle": "2024-04-06T11:20:11.081006Z",
     "shell.execute_reply": "2024-04-06T11:20:11.079807Z"
    },
    "papermill": {
     "duration": 15.95063,
     "end_time": "2024-04-06T11:20:11.084041",
     "exception": false,
     "start_time": "2024-04-06T11:19:55.133411",
     "status": "completed"
    },
    "tags": []
   },
   "outputs": [],
   "source": [
    "from nltk.stem import WordNetLemmatizer\n",
    "lemmatizer=WordNetLemmatizer()"
   ]
  },
  {
   "cell_type": "code",
   "execution_count": 9,
   "id": "5e236e37",
   "metadata": {
    "execution": {
     "iopub.execute_input": "2024-04-06T11:20:40.831644Z",
     "iopub.status.busy": "2024-04-06T11:20:40.831205Z",
     "iopub.status.idle": "2024-04-06T11:20:41.069789Z",
     "shell.execute_reply": "2024-04-06T11:20:41.068636Z"
    },
    "papermill": {
     "duration": 15.180351,
     "end_time": "2024-04-06T11:20:41.072189",
     "exception": false,
     "start_time": "2024-04-06T11:20:25.891838",
     "status": "completed"
    },
    "tags": []
   },
   "outputs": [
    {
     "name": "stdout",
     "output_type": "stream",
     "text": [
      "[nltk_data] Downloading package stopwords to /usr/share/nltk_data...\n",
      "[nltk_data]   Package stopwords is already up-to-date!\n"
     ]
    },
    {
     "data": {
      "text/plain": [
       "True"
      ]
     },
     "execution_count": 9,
     "metadata": {},
     "output_type": "execute_result"
    }
   ],
   "source": [
    "import re\n",
    "import nltk\n",
    "nltk.download('stopwords')"
   ]
  },
  {
   "cell_type": "code",
   "execution_count": 10,
   "id": "08c46ce6",
   "metadata": {
    "execution": {
     "iopub.execute_input": "2024-04-06T11:21:10.957803Z",
     "iopub.status.busy": "2024-04-06T11:21:10.957384Z",
     "iopub.status.idle": "2024-04-06T11:21:11.073928Z",
     "shell.execute_reply": "2024-04-06T11:21:11.072676Z"
    },
    "papermill": {
     "duration": 15.218048,
     "end_time": "2024-04-06T11:21:11.076602",
     "exception": false,
     "start_time": "2024-04-06T11:20:55.858554",
     "status": "completed"
    },
    "tags": []
   },
   "outputs": [],
   "source": [
    "corpus = []\n",
    "for i in range(len(messages)):\n",
    "    # Ensure the message is decoded into a string if it's a bytes-like object\n",
    "    message = messages['message'][i]\n",
    "    if isinstance(message, bytes):\n",
    "        message = message.decode('utf-8')  # Decode bytes into a string using appropriate encoding\n",
    "    # Perform preprocessing on the string\n",
    "    review = re.sub(b'[^a-zA-Z]', b' ', message)  # Use bytes-like pattern and replace with bytes-like space\n",
    "    review = review.decode('utf-8')  # Convert bytes-like object to string\n",
    "    review = review.lower()\n",
    "    review = review.split()\n",
    "    review = [lemmatizer.lemmatize(word) for word in review]\n",
    "    review = ' '.join(review)\n",
    "    corpus.append(review)\n",
    "\n"
   ]
  },
  {
   "cell_type": "code",
   "execution_count": 11,
   "id": "26a8abad",
   "metadata": {
    "execution": {
     "iopub.execute_input": "2024-04-06T11:21:40.787469Z",
     "iopub.status.busy": "2024-04-06T11:21:40.787097Z",
     "iopub.status.idle": "2024-04-06T11:21:40.798357Z",
     "shell.execute_reply": "2024-04-06T11:21:40.797117Z"
    },
    "papermill": {
     "duration": 14.914302,
     "end_time": "2024-04-06T11:21:40.800835",
     "exception": false,
     "start_time": "2024-04-06T11:21:25.886533",
     "status": "completed"
    },
    "tags": []
   },
   "outputs": [],
   "source": [
    "filtered_data = [[i, j, k] for i, j, k in zip(list(map(len, corpus)), corpus, messages['message']) if len(j) < 1]\n"
   ]
  },
  {
   "cell_type": "code",
   "execution_count": 12,
   "id": "a581e33a",
   "metadata": {
    "execution": {
     "iopub.execute_input": "2024-04-06T11:22:10.554089Z",
     "iopub.status.busy": "2024-04-06T11:22:10.553688Z",
     "iopub.status.idle": "2024-04-06T11:22:10.581236Z",
     "shell.execute_reply": "2024-04-06T11:22:10.579750Z"
    },
    "papermill": {
     "duration": 14.970934,
     "end_time": "2024-04-06T11:22:10.583532",
     "exception": false,
     "start_time": "2024-04-06T11:21:55.612598",
     "status": "completed"
    },
    "tags": []
   },
   "outputs": [
    {
     "data": {
      "text/plain": [
       "['',\n",
       " '',\n",
       " '',\n",
       " '',\n",
       " '',\n",
       " '',\n",
       " '',\n",
       " '',\n",
       " '',\n",
       " '',\n",
       " '',\n",
       " '',\n",
       " '',\n",
       " '',\n",
       " '',\n",
       " '',\n",
       " '',\n",
       " '',\n",
       " '',\n",
       " '',\n",
       " '',\n",
       " '',\n",
       " '',\n",
       " '',\n",
       " '',\n",
       " '',\n",
       " '',\n",
       " '',\n",
       " '',\n",
       " '',\n",
       " '',\n",
       " '',\n",
       " '',\n",
       " '',\n",
       " '',\n",
       " '',\n",
       " '',\n",
       " '',\n",
       " '',\n",
       " '',\n",
       " '',\n",
       " '',\n",
       " '',\n",
       " '',\n",
       " '',\n",
       " '',\n",
       " '',\n",
       " '',\n",
       " '',\n",
       " '',\n",
       " '',\n",
       " '',\n",
       " '',\n",
       " '',\n",
       " '',\n",
       " '',\n",
       " '',\n",
       " '',\n",
       " '',\n",
       " '',\n",
       " '',\n",
       " '',\n",
       " '',\n",
       " '',\n",
       " '',\n",
       " '',\n",
       " '',\n",
       " '',\n",
       " '',\n",
       " '',\n",
       " '',\n",
       " '',\n",
       " '',\n",
       " '',\n",
       " '',\n",
       " '',\n",
       " '',\n",
       " '',\n",
       " '',\n",
       " '',\n",
       " '',\n",
       " '',\n",
       " '',\n",
       " '',\n",
       " '',\n",
       " '',\n",
       " '',\n",
       " '',\n",
       " '',\n",
       " '',\n",
       " '',\n",
       " '',\n",
       " '',\n",
       " '',\n",
       " '',\n",
       " '',\n",
       " '',\n",
       " '',\n",
       " '',\n",
       " '',\n",
       " '',\n",
       " '',\n",
       " '',\n",
       " '',\n",
       " '',\n",
       " '',\n",
       " '',\n",
       " '',\n",
       " '',\n",
       " '',\n",
       " '',\n",
       " '',\n",
       " '',\n",
       " '',\n",
       " '',\n",
       " '',\n",
       " '',\n",
       " '',\n",
       " '',\n",
       " '',\n",
       " '',\n",
       " '',\n",
       " '',\n",
       " '',\n",
       " '',\n",
       " '',\n",
       " '',\n",
       " '',\n",
       " '',\n",
       " '',\n",
       " '',\n",
       " '',\n",
       " '',\n",
       " '',\n",
       " '',\n",
       " '',\n",
       " '',\n",
       " '',\n",
       " '',\n",
       " '',\n",
       " '',\n",
       " '',\n",
       " '',\n",
       " '',\n",
       " '',\n",
       " '',\n",
       " '',\n",
       " '',\n",
       " '',\n",
       " '',\n",
       " '',\n",
       " '',\n",
       " '',\n",
       " '',\n",
       " '',\n",
       " '',\n",
       " '',\n",
       " '',\n",
       " '',\n",
       " '',\n",
       " '',\n",
       " '',\n",
       " '',\n",
       " '',\n",
       " '',\n",
       " '',\n",
       " '',\n",
       " '',\n",
       " '',\n",
       " '',\n",
       " '',\n",
       " '',\n",
       " '',\n",
       " '',\n",
       " '',\n",
       " '',\n",
       " '',\n",
       " '',\n",
       " '',\n",
       " '',\n",
       " '',\n",
       " '',\n",
       " '',\n",
       " '',\n",
       " '',\n",
       " '',\n",
       " '',\n",
       " '',\n",
       " '',\n",
       " '',\n",
       " '',\n",
       " '',\n",
       " '',\n",
       " '',\n",
       " '',\n",
       " '',\n",
       " '',\n",
       " '',\n",
       " '',\n",
       " '',\n",
       " '',\n",
       " '',\n",
       " '',\n",
       " '',\n",
       " '',\n",
       " '',\n",
       " '',\n",
       " '',\n",
       " '',\n",
       " '',\n",
       " '',\n",
       " '',\n",
       " '',\n",
       " '',\n",
       " '',\n",
       " '',\n",
       " '',\n",
       " '',\n",
       " '',\n",
       " '',\n",
       " '',\n",
       " '',\n",
       " '',\n",
       " '',\n",
       " '',\n",
       " '',\n",
       " '',\n",
       " '',\n",
       " '',\n",
       " '',\n",
       " '',\n",
       " '',\n",
       " '',\n",
       " '',\n",
       " '',\n",
       " '',\n",
       " '',\n",
       " '',\n",
       " '',\n",
       " '',\n",
       " '',\n",
       " '',\n",
       " '',\n",
       " '',\n",
       " '',\n",
       " '',\n",
       " '',\n",
       " '',\n",
       " '',\n",
       " '',\n",
       " '',\n",
       " '',\n",
       " '',\n",
       " '',\n",
       " '',\n",
       " '',\n",
       " '',\n",
       " '',\n",
       " '',\n",
       " '',\n",
       " '',\n",
       " '',\n",
       " '',\n",
       " '',\n",
       " '',\n",
       " '',\n",
       " '',\n",
       " '',\n",
       " '',\n",
       " '',\n",
       " '',\n",
       " '',\n",
       " '',\n",
       " '',\n",
       " '',\n",
       " '',\n",
       " '',\n",
       " '',\n",
       " '',\n",
       " '',\n",
       " '',\n",
       " '',\n",
       " '',\n",
       " '',\n",
       " '',\n",
       " '',\n",
       " '',\n",
       " '',\n",
       " '',\n",
       " '',\n",
       " '',\n",
       " '',\n",
       " '',\n",
       " '',\n",
       " '',\n",
       " '',\n",
       " '',\n",
       " '',\n",
       " '',\n",
       " '',\n",
       " '',\n",
       " '',\n",
       " '',\n",
       " '',\n",
       " '',\n",
       " '',\n",
       " '',\n",
       " '',\n",
       " '',\n",
       " '',\n",
       " '',\n",
       " '',\n",
       " '',\n",
       " '',\n",
       " '',\n",
       " '',\n",
       " '',\n",
       " '',\n",
       " '',\n",
       " '',\n",
       " '',\n",
       " '',\n",
       " '',\n",
       " '',\n",
       " '',\n",
       " '',\n",
       " '',\n",
       " '',\n",
       " '',\n",
       " '',\n",
       " '',\n",
       " '',\n",
       " '',\n",
       " '',\n",
       " '',\n",
       " '',\n",
       " '',\n",
       " '',\n",
       " '',\n",
       " '',\n",
       " '',\n",
       " '',\n",
       " '',\n",
       " '',\n",
       " '',\n",
       " '',\n",
       " '',\n",
       " '',\n",
       " '',\n",
       " '',\n",
       " '',\n",
       " '',\n",
       " '',\n",
       " '',\n",
       " '',\n",
       " '',\n",
       " '',\n",
       " '',\n",
       " '',\n",
       " '',\n",
       " '',\n",
       " '',\n",
       " '',\n",
       " '',\n",
       " '',\n",
       " '',\n",
       " '',\n",
       " '',\n",
       " '',\n",
       " '',\n",
       " '',\n",
       " '',\n",
       " '',\n",
       " '',\n",
       " '',\n",
       " '',\n",
       " '',\n",
       " '',\n",
       " '',\n",
       " '',\n",
       " '',\n",
       " '',\n",
       " '',\n",
       " '',\n",
       " '',\n",
       " '',\n",
       " '',\n",
       " '',\n",
       " '',\n",
       " '',\n",
       " '',\n",
       " '',\n",
       " '',\n",
       " '',\n",
       " '',\n",
       " '',\n",
       " '',\n",
       " '',\n",
       " '',\n",
       " '',\n",
       " '',\n",
       " '',\n",
       " '',\n",
       " '',\n",
       " '',\n",
       " '',\n",
       " '',\n",
       " '',\n",
       " '',\n",
       " '',\n",
       " '',\n",
       " '',\n",
       " '',\n",
       " '',\n",
       " '',\n",
       " '',\n",
       " '',\n",
       " '',\n",
       " '',\n",
       " '',\n",
       " '',\n",
       " '',\n",
       " '',\n",
       " '',\n",
       " '',\n",
       " '',\n",
       " '',\n",
       " '',\n",
       " '',\n",
       " '',\n",
       " '',\n",
       " '',\n",
       " '',\n",
       " '',\n",
       " '',\n",
       " '',\n",
       " '',\n",
       " '',\n",
       " '',\n",
       " '',\n",
       " '',\n",
       " '',\n",
       " '',\n",
       " '',\n",
       " '',\n",
       " '',\n",
       " '',\n",
       " '',\n",
       " '',\n",
       " '',\n",
       " '',\n",
       " '',\n",
       " '',\n",
       " '',\n",
       " '',\n",
       " '',\n",
       " '',\n",
       " '',\n",
       " '',\n",
       " '',\n",
       " '',\n",
       " '',\n",
       " '',\n",
       " '',\n",
       " '',\n",
       " '',\n",
       " '',\n",
       " '',\n",
       " '',\n",
       " '',\n",
       " '',\n",
       " '',\n",
       " '',\n",
       " '',\n",
       " '',\n",
       " '',\n",
       " '',\n",
       " '',\n",
       " '',\n",
       " '',\n",
       " '',\n",
       " '',\n",
       " '',\n",
       " '',\n",
       " '',\n",
       " '',\n",
       " '',\n",
       " '',\n",
       " '',\n",
       " '',\n",
       " '',\n",
       " '',\n",
       " '',\n",
       " '',\n",
       " '',\n",
       " '',\n",
       " '',\n",
       " '',\n",
       " '',\n",
       " '',\n",
       " '',\n",
       " '',\n",
       " '',\n",
       " '',\n",
       " '',\n",
       " '',\n",
       " '',\n",
       " '',\n",
       " '',\n",
       " '',\n",
       " '',\n",
       " '',\n",
       " '',\n",
       " '',\n",
       " '',\n",
       " '',\n",
       " '',\n",
       " '',\n",
       " '',\n",
       " '',\n",
       " '',\n",
       " '',\n",
       " '',\n",
       " '',\n",
       " '',\n",
       " '',\n",
       " '',\n",
       " '',\n",
       " '',\n",
       " '',\n",
       " '',\n",
       " '',\n",
       " '',\n",
       " '',\n",
       " '',\n",
       " '',\n",
       " '',\n",
       " '',\n",
       " '',\n",
       " '',\n",
       " '',\n",
       " '',\n",
       " '',\n",
       " '',\n",
       " '',\n",
       " '',\n",
       " '',\n",
       " '',\n",
       " '',\n",
       " '',\n",
       " '',\n",
       " '',\n",
       " '',\n",
       " '',\n",
       " '',\n",
       " '',\n",
       " '',\n",
       " '',\n",
       " '',\n",
       " '',\n",
       " '',\n",
       " '',\n",
       " '',\n",
       " '',\n",
       " '',\n",
       " '',\n",
       " '',\n",
       " '',\n",
       " '',\n",
       " '',\n",
       " '',\n",
       " '',\n",
       " '',\n",
       " '',\n",
       " '',\n",
       " '',\n",
       " '',\n",
       " '',\n",
       " '',\n",
       " '',\n",
       " '',\n",
       " '',\n",
       " '',\n",
       " '',\n",
       " '',\n",
       " '',\n",
       " '',\n",
       " '',\n",
       " '',\n",
       " '',\n",
       " '',\n",
       " '',\n",
       " '',\n",
       " '',\n",
       " '',\n",
       " '',\n",
       " '',\n",
       " '',\n",
       " '',\n",
       " '',\n",
       " '',\n",
       " '',\n",
       " '',\n",
       " '',\n",
       " '',\n",
       " '',\n",
       " '',\n",
       " '',\n",
       " '',\n",
       " '',\n",
       " '',\n",
       " '',\n",
       " '',\n",
       " '',\n",
       " '',\n",
       " '',\n",
       " '',\n",
       " '',\n",
       " '',\n",
       " '',\n",
       " '',\n",
       " '',\n",
       " '',\n",
       " '',\n",
       " '',\n",
       " '',\n",
       " '',\n",
       " '',\n",
       " '',\n",
       " '',\n",
       " '',\n",
       " '',\n",
       " '',\n",
       " '',\n",
       " '',\n",
       " '',\n",
       " '',\n",
       " '',\n",
       " '',\n",
       " '',\n",
       " '',\n",
       " '',\n",
       " '',\n",
       " '',\n",
       " '',\n",
       " '',\n",
       " '',\n",
       " '',\n",
       " '',\n",
       " '',\n",
       " '',\n",
       " '',\n",
       " '',\n",
       " '',\n",
       " '',\n",
       " '',\n",
       " '',\n",
       " '',\n",
       " '',\n",
       " '',\n",
       " '',\n",
       " '',\n",
       " '',\n",
       " '',\n",
       " '',\n",
       " '',\n",
       " '',\n",
       " '',\n",
       " '',\n",
       " '',\n",
       " '',\n",
       " '',\n",
       " '',\n",
       " '',\n",
       " '',\n",
       " '',\n",
       " '',\n",
       " '',\n",
       " '',\n",
       " '',\n",
       " '',\n",
       " '',\n",
       " '',\n",
       " '',\n",
       " '',\n",
       " '',\n",
       " '',\n",
       " '',\n",
       " '',\n",
       " '',\n",
       " '',\n",
       " '',\n",
       " '',\n",
       " '',\n",
       " '',\n",
       " '',\n",
       " '',\n",
       " '',\n",
       " '',\n",
       " '',\n",
       " '',\n",
       " '',\n",
       " '',\n",
       " '',\n",
       " '',\n",
       " '',\n",
       " '',\n",
       " '',\n",
       " '',\n",
       " '',\n",
       " '',\n",
       " '',\n",
       " '',\n",
       " '',\n",
       " '',\n",
       " '',\n",
       " '',\n",
       " '',\n",
       " '',\n",
       " '',\n",
       " '',\n",
       " '',\n",
       " '',\n",
       " '',\n",
       " '',\n",
       " '',\n",
       " '',\n",
       " '',\n",
       " '',\n",
       " '',\n",
       " '',\n",
       " '',\n",
       " '',\n",
       " '',\n",
       " '',\n",
       " '',\n",
       " '',\n",
       " '',\n",
       " '',\n",
       " '',\n",
       " '',\n",
       " '',\n",
       " '',\n",
       " '',\n",
       " '',\n",
       " '',\n",
       " '',\n",
       " '',\n",
       " '',\n",
       " '',\n",
       " '',\n",
       " '',\n",
       " '',\n",
       " '',\n",
       " '',\n",
       " '',\n",
       " '',\n",
       " '',\n",
       " '',\n",
       " '',\n",
       " '',\n",
       " '',\n",
       " '',\n",
       " '',\n",
       " '',\n",
       " '',\n",
       " '',\n",
       " '',\n",
       " '',\n",
       " '',\n",
       " '',\n",
       " '',\n",
       " '',\n",
       " '',\n",
       " '',\n",
       " '',\n",
       " '',\n",
       " '',\n",
       " '',\n",
       " '',\n",
       " '',\n",
       " '',\n",
       " '',\n",
       " '',\n",
       " '',\n",
       " '',\n",
       " '',\n",
       " '',\n",
       " '',\n",
       " '',\n",
       " '',\n",
       " '',\n",
       " '',\n",
       " '',\n",
       " '',\n",
       " '',\n",
       " '',\n",
       " '',\n",
       " '',\n",
       " '',\n",
       " '',\n",
       " '',\n",
       " '',\n",
       " '',\n",
       " '',\n",
       " '',\n",
       " '',\n",
       " '',\n",
       " '',\n",
       " '',\n",
       " '',\n",
       " '',\n",
       " '',\n",
       " '',\n",
       " '',\n",
       " '',\n",
       " '',\n",
       " '',\n",
       " '',\n",
       " '',\n",
       " '',\n",
       " '',\n",
       " '',\n",
       " '',\n",
       " '',\n",
       " '',\n",
       " '',\n",
       " '',\n",
       " '',\n",
       " '',\n",
       " '',\n",
       " '',\n",
       " '',\n",
       " '',\n",
       " '',\n",
       " '',\n",
       " '',\n",
       " '',\n",
       " '',\n",
       " '',\n",
       " '',\n",
       " '',\n",
       " '',\n",
       " '',\n",
       " '',\n",
       " '',\n",
       " '',\n",
       " '',\n",
       " '',\n",
       " '',\n",
       " '',\n",
       " '',\n",
       " '',\n",
       " '',\n",
       " '',\n",
       " '',\n",
       " '',\n",
       " '',\n",
       " '',\n",
       " '',\n",
       " '',\n",
       " '',\n",
       " '',\n",
       " '',\n",
       " '',\n",
       " '',\n",
       " '',\n",
       " '',\n",
       " '',\n",
       " '',\n",
       " '',\n",
       " '',\n",
       " '',\n",
       " '',\n",
       " '',\n",
       " '',\n",
       " '',\n",
       " '',\n",
       " '',\n",
       " '',\n",
       " '',\n",
       " '',\n",
       " '',\n",
       " '',\n",
       " '',\n",
       " '',\n",
       " '',\n",
       " '',\n",
       " '',\n",
       " '',\n",
       " '',\n",
       " '',\n",
       " '',\n",
       " '',\n",
       " '',\n",
       " '',\n",
       " '',\n",
       " '',\n",
       " '',\n",
       " '',\n",
       " '',\n",
       " '',\n",
       " '',\n",
       " '',\n",
       " '',\n",
       " '',\n",
       " '',\n",
       " '',\n",
       " '',\n",
       " '',\n",
       " '',\n",
       " '',\n",
       " '',\n",
       " '',\n",
       " '',\n",
       " '',\n",
       " '',\n",
       " '',\n",
       " '',\n",
       " '',\n",
       " '',\n",
       " '',\n",
       " '',\n",
       " '',\n",
       " '',\n",
       " '',\n",
       " '',\n",
       " '',\n",
       " '',\n",
       " '',\n",
       " '',\n",
       " '',\n",
       " '',\n",
       " '',\n",
       " '',\n",
       " '',\n",
       " '',\n",
       " '',\n",
       " '',\n",
       " '',\n",
       " '',\n",
       " '',\n",
       " '',\n",
       " '',\n",
       " '',\n",
       " '',\n",
       " '',\n",
       " '',\n",
       " '',\n",
       " '',\n",
       " '',\n",
       " '',\n",
       " '',\n",
       " '',\n",
       " '',\n",
       " '',\n",
       " '',\n",
       " '',\n",
       " '',\n",
       " '',\n",
       " '',\n",
       " '',\n",
       " '',\n",
       " '',\n",
       " '',\n",
       " '',\n",
       " '',\n",
       " '',\n",
       " '',\n",
       " '',\n",
       " '',\n",
       " '',\n",
       " '',\n",
       " '',\n",
       " '',\n",
       " '',\n",
       " '',\n",
       " '',\n",
       " '',\n",
       " '',\n",
       " '',\n",
       " '',\n",
       " '',\n",
       " '',\n",
       " '',\n",
       " '',\n",
       " '',\n",
       " '',\n",
       " '',\n",
       " '',\n",
       " '',\n",
       " '',\n",
       " '',\n",
       " '',\n",
       " '',\n",
       " '',\n",
       " '',\n",
       " '',\n",
       " '',\n",
       " '',\n",
       " ...]"
      ]
     },
     "execution_count": 12,
     "metadata": {},
     "output_type": "execute_result"
    }
   ],
   "source": [
    "corpus"
   ]
  },
  {
   "cell_type": "code",
   "execution_count": 13,
   "id": "91b2024d",
   "metadata": {
    "execution": {
     "iopub.execute_input": "2024-04-06T11:22:40.306426Z",
     "iopub.status.busy": "2024-04-06T11:22:40.306023Z",
     "iopub.status.idle": "2024-04-06T11:22:40.310693Z",
     "shell.execute_reply": "2024-04-06T11:22:40.309626Z"
    },
    "papermill": {
     "duration": 14.965538,
     "end_time": "2024-04-06T11:22:40.313035",
     "exception": false,
     "start_time": "2024-04-06T11:22:25.347497",
     "status": "completed"
    },
    "tags": []
   },
   "outputs": [],
   "source": [
    "from nltk import sent_tokenize\n",
    "from gensim.utils import simple_preprocess"
   ]
  },
  {
   "cell_type": "code",
   "execution_count": 14,
   "id": "69296858",
   "metadata": {
    "execution": {
     "iopub.execute_input": "2024-04-06T11:23:10.046927Z",
     "iopub.status.busy": "2024-04-06T11:23:10.046527Z",
     "iopub.status.idle": "2024-04-06T11:23:10.235786Z",
     "shell.execute_reply": "2024-04-06T11:23:10.234638Z"
    },
    "papermill": {
     "duration": 15.037659,
     "end_time": "2024-04-06T11:23:10.238558",
     "exception": false,
     "start_time": "2024-04-06T11:22:55.200899",
     "status": "completed"
    },
    "tags": []
   },
   "outputs": [],
   "source": [
    "words=[]\n",
    "for sent in corpus:\n",
    "    sent_token=sent_tokenize(sent)\n",
    "    for sent in sent_token:\n",
    "        words.append(simple_preprocess(sent))"
   ]
  },
  {
   "cell_type": "code",
   "execution_count": 15,
   "id": "94845fc5",
   "metadata": {
    "execution": {
     "iopub.execute_input": "2024-04-06T11:23:39.913309Z",
     "iopub.status.busy": "2024-04-06T11:23:39.912929Z",
     "iopub.status.idle": "2024-04-06T11:23:39.918363Z",
     "shell.execute_reply": "2024-04-06T11:23:39.917618Z"
    },
    "papermill": {
     "duration": 14.771466,
     "end_time": "2024-04-06T11:23:39.920458",
     "exception": false,
     "start_time": "2024-04-06T11:23:25.148992",
     "status": "completed"
    },
    "tags": []
   },
   "outputs": [
    {
     "data": {
      "text/plain": [
       "[]"
      ]
     },
     "execution_count": 15,
     "metadata": {},
     "output_type": "execute_result"
    }
   ],
   "source": [
    "words"
   ]
  },
  {
   "cell_type": "code",
   "execution_count": 16,
   "id": "cdede0a9",
   "metadata": {
    "execution": {
     "iopub.execute_input": "2024-04-06T11:24:09.808057Z",
     "iopub.status.busy": "2024-04-06T11:24:09.807652Z",
     "iopub.status.idle": "2024-04-06T11:24:09.813362Z",
     "shell.execute_reply": "2024-04-06T11:24:09.811954Z"
    },
    "papermill": {
     "duration": 14.97101,
     "end_time": "2024-04-06T11:24:09.816169",
     "exception": false,
     "start_time": "2024-04-06T11:23:54.845159",
     "status": "completed"
    },
    "tags": []
   },
   "outputs": [],
   "source": [
    "import gensim"
   ]
  },
  {
   "cell_type": "code",
   "execution_count": 17,
   "id": "3c089dd2",
   "metadata": {
    "execution": {
     "iopub.execute_input": "2024-04-06T11:24:39.661558Z",
     "iopub.status.busy": "2024-04-06T11:24:39.661142Z",
     "iopub.status.idle": "2024-04-06T11:24:39.666067Z",
     "shell.execute_reply": "2024-04-06T11:24:39.665242Z"
    },
    "papermill": {
     "duration": 15.084201,
     "end_time": "2024-04-06T11:24:39.668209",
     "exception": false,
     "start_time": "2024-04-06T11:24:24.584008",
     "status": "completed"
    },
    "tags": []
   },
   "outputs": [],
   "source": [
    "words=[\"Amidst the tranquil rustle of leaves in the dense forest, a lone traveler wandered, enveloped by the serene ambiance. The sunlight filtered through the lush canopy, casting dappled shadows on the forest floor. Each step resonated softly as the traveler meandered along the winding path, surrounded by towering trees adorned with vibrant foliage. The air was imbued with the earthy scent of damp soil and the sweet fragrance of wildflowers. Birds chirped melodiously, adding a symphony of sounds to the tranquil tableau. With each passing moment, the traveler felt a deep sense of connection to nature, finding solace in the simplicity and beauty of the natural world.\"]"
   ]
  },
  {
   "cell_type": "code",
   "execution_count": 18,
   "id": "971e63a5",
   "metadata": {
    "execution": {
     "iopub.execute_input": "2024-04-06T11:25:09.266936Z",
     "iopub.status.busy": "2024-04-06T11:25:09.266533Z",
     "iopub.status.idle": "2024-04-06T11:25:09.286355Z",
     "shell.execute_reply": "2024-04-06T11:25:09.285479Z"
    },
    "papermill": {
     "duration": 14.816707,
     "end_time": "2024-04-06T11:25:09.288976",
     "exception": false,
     "start_time": "2024-04-06T11:24:54.472269",
     "status": "completed"
    },
    "tags": []
   },
   "outputs": [],
   "source": [
    "model=gensim.models.Word2Vec(words)"
   ]
  },
  {
   "cell_type": "code",
   "execution_count": 19,
   "id": "3535edd9",
   "metadata": {
    "execution": {
     "iopub.execute_input": "2024-04-06T11:25:39.133234Z",
     "iopub.status.busy": "2024-04-06T11:25:39.132374Z",
     "iopub.status.idle": "2024-04-06T11:25:39.140190Z",
     "shell.execute_reply": "2024-04-06T11:25:39.139206Z"
    },
    "papermill": {
     "duration": 14.799676,
     "end_time": "2024-04-06T11:25:39.142404",
     "exception": false,
     "start_time": "2024-04-06T11:25:24.342728",
     "status": "completed"
    },
    "tags": []
   },
   "outputs": [
    {
     "data": {
      "text/plain": [
       "[' ',\n",
       " 'e',\n",
       " 't',\n",
       " 'a',\n",
       " 'n',\n",
       " 'o',\n",
       " 's',\n",
       " 'r',\n",
       " 'i',\n",
       " 'd',\n",
       " 'h',\n",
       " 'l',\n",
       " 'f',\n",
       " 'u',\n",
       " 'c',\n",
       " 'p',\n",
       " 'g',\n",
       " 'w',\n",
       " 'y',\n",
       " 'm',\n",
       " ',',\n",
       " 'b',\n",
       " '.',\n",
       " 'v']"
      ]
     },
     "execution_count": 19,
     "metadata": {},
     "output_type": "execute_result"
    }
   ],
   "source": [
    "model.wv.index_to_key"
   ]
  },
  {
   "cell_type": "code",
   "execution_count": 20,
   "id": "b2e4b762",
   "metadata": {
    "execution": {
     "iopub.execute_input": "2024-04-06T11:26:08.861134Z",
     "iopub.status.busy": "2024-04-06T11:26:08.860718Z",
     "iopub.status.idle": "2024-04-06T11:26:08.867609Z",
     "shell.execute_reply": "2024-04-06T11:26:08.866520Z"
    },
    "papermill": {
     "duration": 14.825122,
     "end_time": "2024-04-06T11:26:08.870016",
     "exception": false,
     "start_time": "2024-04-06T11:25:54.044894",
     "status": "completed"
    },
    "tags": []
   },
   "outputs": [
    {
     "data": {
      "text/plain": [
       "1"
      ]
     },
     "execution_count": 20,
     "metadata": {},
     "output_type": "execute_result"
    }
   ],
   "source": [
    "model.corpus_count"
   ]
  },
  {
   "cell_type": "code",
   "execution_count": 21,
   "id": "ae1af693",
   "metadata": {
    "execution": {
     "iopub.execute_input": "2024-04-06T11:26:38.741493Z",
     "iopub.status.busy": "2024-04-06T11:26:38.741104Z",
     "iopub.status.idle": "2024-04-06T11:26:38.746738Z",
     "shell.execute_reply": "2024-04-06T11:26:38.745966Z"
    },
    "papermill": {
     "duration": 15.054736,
     "end_time": "2024-04-06T11:26:38.748880",
     "exception": false,
     "start_time": "2024-04-06T11:26:23.694144",
     "status": "completed"
    },
    "tags": []
   },
   "outputs": [
    {
     "data": {
      "text/plain": [
       "5"
      ]
     },
     "execution_count": 21,
     "metadata": {},
     "output_type": "execute_result"
    }
   ],
   "source": [
    "model.epochs"
   ]
  },
  {
   "cell_type": "code",
   "execution_count": 22,
   "id": "924fc2b4",
   "metadata": {
    "execution": {
     "iopub.execute_input": "2024-04-06T11:27:08.447119Z",
     "iopub.status.busy": "2024-04-06T11:27:08.446716Z",
     "iopub.status.idle": "2024-04-06T11:27:08.458090Z",
     "shell.execute_reply": "2024-04-06T11:27:08.456993Z"
    },
    "papermill": {
     "duration": 14.889298,
     "end_time": "2024-04-06T11:27:08.460714",
     "exception": false,
     "start_time": "2024-04-06T11:26:53.571416",
     "status": "completed"
    },
    "tags": []
   },
   "outputs": [
    {
     "data": {
      "text/plain": [
       "[(' ', 0.5925811529159546),\n",
       " ('s', 0.5164974331855774),\n",
       " ('n', 0.48999708890914917),\n",
       " ('r', 0.4786458909511566),\n",
       " ('e', 0.47708365321159363),\n",
       " ('o', 0.45119526982307434),\n",
       " ('t', 0.4501434862613678),\n",
       " ('h', 0.40256690979003906),\n",
       " (',', 0.3548624515533447),\n",
       " ('i', 0.3427988588809967)]"
      ]
     },
     "execution_count": 22,
     "metadata": {},
     "output_type": "execute_result"
    }
   ],
   "source": [
    "model.wv.similar_by_word('g')"
   ]
  },
  {
   "cell_type": "code",
   "execution_count": 23,
   "id": "b8a67248",
   "metadata": {
    "execution": {
     "iopub.execute_input": "2024-04-06T11:27:38.251175Z",
     "iopub.status.busy": "2024-04-06T11:27:38.250797Z",
     "iopub.status.idle": "2024-04-06T11:27:38.256492Z",
     "shell.execute_reply": "2024-04-06T11:27:38.255786Z"
    },
    "papermill": {
     "duration": 14.753848,
     "end_time": "2024-04-06T11:27:38.258615",
     "exception": false,
     "start_time": "2024-04-06T11:27:23.504767",
     "status": "completed"
    },
    "tags": []
   },
   "outputs": [
    {
     "data": {
      "text/plain": [
       "(100,)"
      ]
     },
     "execution_count": 23,
     "metadata": {},
     "output_type": "execute_result"
    }
   ],
   "source": [
    "model.wv['g'].shape"
   ]
  },
  {
   "cell_type": "code",
   "execution_count": 24,
   "id": "23dcb2e2",
   "metadata": {
    "execution": {
     "iopub.execute_input": "2024-04-06T11:28:07.875225Z",
     "iopub.status.busy": "2024-04-06T11:28:07.874809Z",
     "iopub.status.idle": "2024-04-06T11:28:07.881867Z",
     "shell.execute_reply": "2024-04-06T11:28:07.880773Z"
    },
    "papermill": {
     "duration": 14.83351,
     "end_time": "2024-04-06T11:28:07.884073",
     "exception": false,
     "start_time": "2024-04-06T11:27:53.050563",
     "status": "completed"
    },
    "tags": []
   },
   "outputs": [
    {
     "data": {
      "text/plain": [
       "'Amidst the tranquil rustle of leaves in the dense forest, a lone traveler wandered, enveloped by the serene ambiance. The sunlight filtered through the lush canopy, casting dappled shadows on the forest floor. Each step resonated softly as the traveler meandered along the winding path, surrounded by towering trees adorned with vibrant foliage. The air was imbued with the earthy scent of damp soil and the sweet fragrance of wildflowers. Birds chirped melodiously, adding a symphony of sounds to the tranquil tableau. With each passing moment, the traveler felt a deep sense of connection to nature, finding solace in the simplicity and beauty of the natural world.'"
      ]
     },
     "execution_count": 24,
     "metadata": {},
     "output_type": "execute_result"
    }
   ],
   "source": [
    "words[0]"
   ]
  },
  {
   "cell_type": "code",
   "execution_count": 25,
   "id": "e04a55e9",
   "metadata": {
    "execution": {
     "iopub.execute_input": "2024-04-06T11:28:37.716719Z",
     "iopub.status.busy": "2024-04-06T11:28:37.716288Z",
     "iopub.status.idle": "2024-04-06T11:28:37.722732Z",
     "shell.execute_reply": "2024-04-06T11:28:37.721630Z"
    },
    "papermill": {
     "duration": 14.735129,
     "end_time": "2024-04-06T11:28:37.725001",
     "exception": false,
     "start_time": "2024-04-06T11:28:22.989872",
     "status": "completed"
    },
    "tags": []
   },
   "outputs": [],
   "source": [
    "def avg_word2vec(doc):\n",
    "    # remove out-of-vocabulary words\n",
    "    sent = [word for word in doc if word in model.wv.index_to_key]\n",
    "    print(sent)\n",
    "    \n",
    "    return np.mean([model.wv[word] for word in doc if word in model.wv.index_to_key],axis=0)\n",
    "                #or [np.zeros(len(model.wv.index_to_key))], axis=0)"
   ]
  },
  {
   "cell_type": "code",
   "execution_count": 26,
   "id": "26293a3e",
   "metadata": {
    "execution": {
     "iopub.execute_input": "2024-04-06T11:29:07.313191Z",
     "iopub.status.busy": "2024-04-06T11:29:07.312798Z",
     "iopub.status.idle": "2024-04-06T11:29:07.325856Z",
     "shell.execute_reply": "2024-04-06T11:29:07.324545Z"
    },
    "papermill": {
     "duration": 14.677247,
     "end_time": "2024-04-06T11:29:07.327799",
     "exception": false,
     "start_time": "2024-04-06T11:28:52.650552",
     "status": "completed"
    },
    "tags": []
   },
   "outputs": [
    {
     "name": "stdout",
     "output_type": "stream",
     "text": [
      "[]\n"
     ]
    },
    {
     "name": "stderr",
     "output_type": "stream",
     "text": [
      "/opt/conda/lib/python3.10/site-packages/numpy/core/fromnumeric.py:3504: RuntimeWarning: Mean of empty slice.\n",
      "  return _methods._mean(a, axis=axis, dtype=dtype,\n",
      "/opt/conda/lib/python3.10/site-packages/numpy/core/_methods.py:129: RuntimeWarning: invalid value encountered in scalar divide\n",
      "  ret = ret.dtype.type(ret / rcount)\n"
     ]
    },
    {
     "data": {
      "text/plain": [
       "nan"
      ]
     },
     "execution_count": 26,
     "metadata": {},
     "output_type": "execute_result"
    }
   ],
   "source": [
    "avg_word2vec(words)"
   ]
  },
  {
   "cell_type": "code",
   "execution_count": 27,
   "id": "fcef3d44",
   "metadata": {
    "execution": {
     "iopub.execute_input": "2024-04-06T11:29:37.170679Z",
     "iopub.status.busy": "2024-04-06T11:29:37.170005Z",
     "iopub.status.idle": "2024-04-06T11:29:52.109255Z",
     "shell.execute_reply": "2024-04-06T11:29:52.107895Z"
    },
    "papermill": {
     "duration": 29.682011,
     "end_time": "2024-04-06T11:29:52.112374",
     "exception": false,
     "start_time": "2024-04-06T11:29:22.430363",
     "status": "completed"
    },
    "tags": []
   },
   "outputs": [
    {
     "name": "stdout",
     "output_type": "stream",
     "text": [
      "Requirement already satisfied: tqdm in /opt/conda/lib/python3.10/site-packages (4.66.1)\r\n"
     ]
    }
   ],
   "source": [
    "!pip install tqdm"
   ]
  },
  {
   "cell_type": "code",
   "execution_count": 28,
   "id": "214746f3",
   "metadata": {
    "execution": {
     "iopub.execute_input": "2024-04-06T11:30:21.904552Z",
     "iopub.status.busy": "2024-04-06T11:30:21.904079Z",
     "iopub.status.idle": "2024-04-06T11:30:21.909497Z",
     "shell.execute_reply": "2024-04-06T11:30:21.908313Z"
    },
    "papermill": {
     "duration": 14.81512,
     "end_time": "2024-04-06T11:30:21.911974",
     "exception": false,
     "start_time": "2024-04-06T11:30:07.096854",
     "status": "completed"
    },
    "tags": []
   },
   "outputs": [],
   "source": [
    "from tqdm import tqdm"
   ]
  },
  {
   "cell_type": "code",
   "execution_count": 29,
   "id": "62e53927",
   "metadata": {
    "execution": {
     "iopub.execute_input": "2024-04-06T11:30:51.816661Z",
     "iopub.status.busy": "2024-04-06T11:30:51.816239Z",
     "iopub.status.idle": "2024-04-06T11:30:51.831966Z",
     "shell.execute_reply": "2024-04-06T11:30:51.830741Z"
    },
    "papermill": {
     "duration": 15.023039,
     "end_time": "2024-04-06T11:30:51.834349",
     "exception": false,
     "start_time": "2024-04-06T11:30:36.811310",
     "status": "completed"
    },
    "tags": []
   },
   "outputs": [
    {
     "name": "stderr",
     "output_type": "stream",
     "text": [
      "100%|██████████| 1/1 [00:00<00:00, 229.40it/s]"
     ]
    },
    {
     "name": "stdout",
     "output_type": "stream",
     "text": [
      "['m', 'i', 'd', 's', 't', ' ', 't', 'h', 'e', ' ', 't', 'r', 'a', 'n', 'u', 'i', 'l', ' ', 'r', 'u', 's', 't', 'l', 'e', ' ', 'o', 'f', ' ', 'l', 'e', 'a', 'v', 'e', 's', ' ', 'i', 'n', ' ', 't', 'h', 'e', ' ', 'd', 'e', 'n', 's', 'e', ' ', 'f', 'o', 'r', 'e', 's', 't', ',', ' ', 'a', ' ', 'l', 'o', 'n', 'e', ' ', 't', 'r', 'a', 'v', 'e', 'l', 'e', 'r', ' ', 'w', 'a', 'n', 'd', 'e', 'r', 'e', 'd', ',', ' ', 'e', 'n', 'v', 'e', 'l', 'o', 'p', 'e', 'd', ' ', 'b', 'y', ' ', 't', 'h', 'e', ' ', 's', 'e', 'r', 'e', 'n', 'e', ' ', 'a', 'm', 'b', 'i', 'a', 'n', 'c', 'e', '.', ' ', 'h', 'e', ' ', 's', 'u', 'n', 'l', 'i', 'g', 'h', 't', ' ', 'f', 'i', 'l', 't', 'e', 'r', 'e', 'd', ' ', 't', 'h', 'r', 'o', 'u', 'g', 'h', ' ', 't', 'h', 'e', ' ', 'l', 'u', 's', 'h', ' ', 'c', 'a', 'n', 'o', 'p', 'y', ',', ' ', 'c', 'a', 's', 't', 'i', 'n', 'g', ' ', 'd', 'a', 'p', 'p', 'l', 'e', 'd', ' ', 's', 'h', 'a', 'd', 'o', 'w', 's', ' ', 'o', 'n', ' ', 't', 'h', 'e', ' ', 'f', 'o', 'r', 'e', 's', 't', ' ', 'f', 'l', 'o', 'o', 'r', '.', ' ', 'a', 'c', 'h', ' ', 's', 't', 'e', 'p', ' ', 'r', 'e', 's', 'o', 'n', 'a', 't', 'e', 'd', ' ', 's', 'o', 'f', 't', 'l', 'y', ' ', 'a', 's', ' ', 't', 'h', 'e', ' ', 't', 'r', 'a', 'v', 'e', 'l', 'e', 'r', ' ', 'm', 'e', 'a', 'n', 'd', 'e', 'r', 'e', 'd', ' ', 'a', 'l', 'o', 'n', 'g', ' ', 't', 'h', 'e', ' ', 'w', 'i', 'n', 'd', 'i', 'n', 'g', ' ', 'p', 'a', 't', 'h', ',', ' ', 's', 'u', 'r', 'r', 'o', 'u', 'n', 'd', 'e', 'd', ' ', 'b', 'y', ' ', 't', 'o', 'w', 'e', 'r', 'i', 'n', 'g', ' ', 't', 'r', 'e', 'e', 's', ' ', 'a', 'd', 'o', 'r', 'n', 'e', 'd', ' ', 'w', 'i', 't', 'h', ' ', 'v', 'i', 'b', 'r', 'a', 'n', 't', ' ', 'f', 'o', 'l', 'i', 'a', 'g', 'e', '.', ' ', 'h', 'e', ' ', 'a', 'i', 'r', ' ', 'w', 'a', 's', ' ', 'i', 'm', 'b', 'u', 'e', 'd', ' ', 'w', 'i', 't', 'h', ' ', 't', 'h', 'e', ' ', 'e', 'a', 'r', 't', 'h', 'y', ' ', 's', 'c', 'e', 'n', 't', ' ', 'o', 'f', ' ', 'd', 'a', 'm', 'p', ' ', 's', 'o', 'i', 'l', ' ', 'a', 'n', 'd', ' ', 't', 'h', 'e', ' ', 's', 'w', 'e', 'e', 't', ' ', 'f', 'r', 'a', 'g', 'r', 'a', 'n', 'c', 'e', ' ', 'o', 'f', ' ', 'w', 'i', 'l', 'd', 'f', 'l', 'o', 'w', 'e', 'r', 's', '.', ' ', 'i', 'r', 'd', 's', ' ', 'c', 'h', 'i', 'r', 'p', 'e', 'd', ' ', 'm', 'e', 'l', 'o', 'd', 'i', 'o', 'u', 's', 'l', 'y', ',', ' ', 'a', 'd', 'd', 'i', 'n', 'g', ' ', 'a', ' ', 's', 'y', 'm', 'p', 'h', 'o', 'n', 'y', ' ', 'o', 'f', ' ', 's', 'o', 'u', 'n', 'd', 's', ' ', 't', 'o', ' ', 't', 'h', 'e', ' ', 't', 'r', 'a', 'n', 'u', 'i', 'l', ' ', 't', 'a', 'b', 'l', 'e', 'a', 'u', '.', ' ', 'i', 't', 'h', ' ', 'e', 'a', 'c', 'h', ' ', 'p', 'a', 's', 's', 'i', 'n', 'g', ' ', 'm', 'o', 'm', 'e', 'n', 't', ',', ' ', 't', 'h', 'e', ' ', 't', 'r', 'a', 'v', 'e', 'l', 'e', 'r', ' ', 'f', 'e', 'l', 't', ' ', 'a', ' ', 'd', 'e', 'e', 'p', ' ', 's', 'e', 'n', 's', 'e', ' ', 'o', 'f', ' ', 'c', 'o', 'n', 'n', 'e', 'c', 't', 'i', 'o', 'n', ' ', 't', 'o', ' ', 'n', 'a', 't', 'u', 'r', 'e', ',', ' ', 'f', 'i', 'n', 'd', 'i', 'n', 'g', ' ', 's', 'o', 'l', 'a', 'c', 'e', ' ', 'i', 'n', ' ', 't', 'h', 'e', ' ', 's', 'i', 'm', 'p', 'l', 'i', 'c', 'i', 't', 'y', ' ', 'a', 'n', 'd', ' ', 'b', 'e', 'a', 'u', 't', 'y', ' ', 'o', 'f', ' ', 't', 'h', 'e', ' ', 'n', 'a', 't', 'u', 'r', 'a', 'l', ' ', 'w', 'o', 'r', 'l', 'd', '.']\n"
     ]
    },
    {
     "name": "stderr",
     "output_type": "stream",
     "text": [
      "\n"
     ]
    }
   ],
   "source": [
    "#apply for the entire sentences\n",
    "import numpy as np\n",
    "X=[]\n",
    "for i in tqdm(range(len(words))):\n",
    "    X.append(avg_word2vec(words[i]))"
   ]
  },
  {
   "cell_type": "code",
   "execution_count": 30,
   "id": "bb6a813b",
   "metadata": {
    "execution": {
     "iopub.execute_input": "2024-04-06T11:31:21.710749Z",
     "iopub.status.busy": "2024-04-06T11:31:21.709846Z",
     "iopub.status.idle": "2024-04-06T11:31:21.719234Z",
     "shell.execute_reply": "2024-04-06T11:31:21.718408Z"
    },
    "papermill": {
     "duration": 14.960847,
     "end_time": "2024-04-06T11:31:21.723166",
     "exception": false,
     "start_time": "2024-04-06T11:31:06.762319",
     "status": "completed"
    },
    "tags": []
   },
   "outputs": [
    {
     "data": {
      "text/plain": [
       "1"
      ]
     },
     "execution_count": 30,
     "metadata": {},
     "output_type": "execute_result"
    }
   ],
   "source": [
    "len(X)"
   ]
  },
  {
   "cell_type": "code",
   "execution_count": 31,
   "id": "c6590b6b",
   "metadata": {
    "execution": {
     "iopub.execute_input": "2024-04-06T11:31:51.445510Z",
     "iopub.status.busy": "2024-04-06T11:31:51.445130Z",
     "iopub.status.idle": "2024-04-06T11:31:51.449801Z",
     "shell.execute_reply": "2024-04-06T11:31:51.448667Z"
    },
    "papermill": {
     "duration": 14.921686,
     "end_time": "2024-04-06T11:31:51.452181",
     "exception": false,
     "start_time": "2024-04-06T11:31:36.530495",
     "status": "completed"
    },
    "tags": []
   },
   "outputs": [],
   "source": [
    "X_new=np.array(X)"
   ]
  },
  {
   "cell_type": "code",
   "execution_count": 32,
   "id": "47fb9e52",
   "metadata": {
    "execution": {
     "iopub.execute_input": "2024-04-06T11:32:21.087907Z",
     "iopub.status.busy": "2024-04-06T11:32:21.087470Z",
     "iopub.status.idle": "2024-04-06T11:32:21.094116Z",
     "shell.execute_reply": "2024-04-06T11:32:21.093018Z"
    },
    "papermill": {
     "duration": 14.873309,
     "end_time": "2024-04-06T11:32:21.096809",
     "exception": false,
     "start_time": "2024-04-06T11:32:06.223500",
     "status": "completed"
    },
    "tags": []
   },
   "outputs": [
    {
     "data": {
      "text/plain": [
       "(5575, 2)"
      ]
     },
     "execution_count": 32,
     "metadata": {},
     "output_type": "execute_result"
    }
   ],
   "source": [
    "messages.shape"
   ]
  },
  {
   "cell_type": "code",
   "execution_count": 33,
   "id": "736af673",
   "metadata": {
    "execution": {
     "iopub.execute_input": "2024-04-06T11:32:51.100934Z",
     "iopub.status.busy": "2024-04-06T11:32:51.100535Z",
     "iopub.status.idle": "2024-04-06T11:32:51.109008Z",
     "shell.execute_reply": "2024-04-06T11:32:51.108093Z"
    },
    "papermill": {
     "duration": 14.993637,
     "end_time": "2024-04-06T11:32:51.111419",
     "exception": false,
     "start_time": "2024-04-06T11:32:36.117782",
     "status": "completed"
    },
    "tags": []
   },
   "outputs": [
    {
     "data": {
      "text/plain": [
       "array([-4.39632731e-03,  5.19964518e-03,  3.98680614e-03,  5.64802904e-03,\n",
       "       -4.58297291e-05, -4.55307448e-03,  4.74360725e-03,  1.27117885e-02,\n",
       "       -1.07613634e-02, -8.27913359e-03,  2.06437754e-03, -7.56369904e-03,\n",
       "       -1.93937600e-03,  4.23352374e-03,  3.42425075e-03, -9.00703773e-04,\n",
       "        7.96093605e-03,  4.65021748e-03, -6.90539507e-03, -1.67572014e-02,\n",
       "        3.01845511e-03,  2.57025909e-04,  1.35122584e-02, -2.32536858e-03,\n",
       "        8.16232816e-04,  4.28799260e-03, -3.83683108e-03,  4.13655490e-03,\n",
       "       -4.83420305e-03,  3.82172293e-03,  7.04222871e-03, -6.58976240e-03,\n",
       "        2.50212336e-03, -9.67204850e-03, -2.28511612e-03,  3.70396068e-03,\n",
       "        6.15360541e-03,  1.15659856e-03, -3.88452760e-03, -2.35553714e-03,\n",
       "        3.98230134e-03, -4.01545735e-03, -9.05401260e-03,  5.30906254e-03,\n",
       "        2.96104769e-03, -1.10343995e-03, -5.55454288e-03, -1.74694543e-03,\n",
       "        2.44535320e-03,  2.94335745e-03,  8.62527522e-04, -7.72789773e-03,\n",
       "       -3.63095035e-03, -1.14870653e-03, -5.58959972e-03, -1.48544507e-03,\n",
       "        2.83120945e-03, -6.52771164e-03, -2.41955114e-03,  7.16946728e-04,\n",
       "       -1.92759756e-03, -2.03704694e-03,  1.04098385e-02, -5.00129128e-04,\n",
       "       -5.29686827e-03,  1.21813891e-02,  2.96900421e-03,  8.99485312e-03,\n",
       "       -7.51445163e-03,  2.63027474e-03,  2.28498038e-03,  1.10040670e-02,\n",
       "        4.03565122e-03,  4.13576327e-03,  4.33275755e-03,  3.57660139e-03,\n",
       "        5.30118309e-03,  3.64125520e-03, -1.29058259e-03, -6.31664880e-03,\n",
       "       -7.86402170e-03, -4.59266827e-03,  3.00292950e-03,  2.35581095e-03,\n",
       "       -4.50366782e-03, -5.47047611e-03,  6.01526443e-03, -5.06622391e-03,\n",
       "       -1.44445847e-04,  6.99653232e-04,  5.18370559e-03,  3.52843758e-03,\n",
       "        3.09131504e-03, -1.42811693e-03,  1.10829845e-02,  3.68299009e-03,\n",
       "        5.15251653e-03, -4.96048620e-03,  1.65033597e-03,  4.62189270e-03],\n",
       "      dtype=float32)"
      ]
     },
     "execution_count": 33,
     "metadata": {},
     "output_type": "execute_result"
    }
   ],
   "source": [
    "X[0]"
   ]
  },
  {
   "cell_type": "code",
   "execution_count": 34,
   "id": "04557623",
   "metadata": {
    "execution": {
     "iopub.execute_input": "2024-04-06T11:33:20.870153Z",
     "iopub.status.busy": "2024-04-06T11:33:20.869417Z",
     "iopub.status.idle": "2024-04-06T11:33:20.875387Z",
     "shell.execute_reply": "2024-04-06T11:33:20.874463Z"
    },
    "papermill": {
     "duration": 14.937395,
     "end_time": "2024-04-06T11:33:20.877416",
     "exception": false,
     "start_time": "2024-04-06T11:33:05.940021",
     "status": "completed"
    },
    "tags": []
   },
   "outputs": [
    {
     "data": {
      "text/plain": [
       "(1, 100)"
      ]
     },
     "execution_count": 34,
     "metadata": {},
     "output_type": "execute_result"
    }
   ],
   "source": [
    "X_new.shape"
   ]
  },
  {
   "cell_type": "code",
   "execution_count": 35,
   "id": "ebdd3674",
   "metadata": {
    "execution": {
     "iopub.execute_input": "2024-04-06T11:33:50.663783Z",
     "iopub.status.busy": "2024-04-06T11:33:50.663311Z",
     "iopub.status.idle": "2024-04-06T11:33:50.669976Z",
     "shell.execute_reply": "2024-04-06T11:33:50.668905Z"
    },
    "papermill": {
     "duration": 14.923545,
     "end_time": "2024-04-06T11:33:50.672648",
     "exception": false,
     "start_time": "2024-04-06T11:33:35.749103",
     "status": "completed"
    },
    "tags": []
   },
   "outputs": [
    {
     "data": {
      "text/plain": [
       "(100,)"
      ]
     },
     "execution_count": 35,
     "metadata": {},
     "output_type": "execute_result"
    }
   ],
   "source": [
    "X_new[0].shape"
   ]
  },
  {
   "cell_type": "code",
   "execution_count": 36,
   "id": "d674760f",
   "metadata": {
    "execution": {
     "iopub.execute_input": "2024-04-06T11:34:20.336890Z",
     "iopub.status.busy": "2024-04-06T11:34:20.336022Z",
     "iopub.status.idle": "2024-04-06T11:34:20.350477Z",
     "shell.execute_reply": "2024-04-06T11:34:20.349641Z"
    },
    "papermill": {
     "duration": 14.856601,
     "end_time": "2024-04-06T11:34:20.353039",
     "exception": false,
     "start_time": "2024-04-06T11:34:05.496438",
     "status": "completed"
    },
    "tags": []
   },
   "outputs": [],
   "source": [
    "y = messages[list(map(lambda x: len(x)>0, corpus))]\n"
   ]
  },
  {
   "cell_type": "code",
   "execution_count": 37,
   "id": "651424cb",
   "metadata": {
    "execution": {
     "iopub.execute_input": "2024-04-06T11:34:50.137660Z",
     "iopub.status.busy": "2024-04-06T11:34:50.137207Z",
     "iopub.status.idle": "2024-04-06T11:34:50.143244Z",
     "shell.execute_reply": "2024-04-06T11:34:50.142008Z"
    },
    "papermill": {
     "duration": 14.830992,
     "end_time": "2024-04-06T11:34:50.145503",
     "exception": false,
     "start_time": "2024-04-06T11:34:35.314511",
     "status": "completed"
    },
    "tags": []
   },
   "outputs": [],
   "source": [
    "y = messages['label']  # Accessing the 'label' column directly\n"
   ]
  },
  {
   "cell_type": "code",
   "execution_count": 38,
   "id": "16e73fab",
   "metadata": {
    "execution": {
     "iopub.execute_input": "2024-04-06T11:35:20.063028Z",
     "iopub.status.busy": "2024-04-06T11:35:20.062635Z",
     "iopub.status.idle": "2024-04-06T11:35:20.100320Z",
     "shell.execute_reply": "2024-04-06T11:35:20.099200Z"
    },
    "papermill": {
     "duration": 14.945773,
     "end_time": "2024-04-06T11:35:20.102979",
     "exception": false,
     "start_time": "2024-04-06T11:35:05.157206",
     "status": "completed"
    },
    "tags": []
   },
   "outputs": [],
   "source": [
    "y = messages['label']  # Accessing the 'label' column directly\n",
    "y = pd.get_dummies(y)  # Convert categorical labels into one-hot encoded format\n",
    "y = y.iloc[:, 0].values  # Assuming you want to select the first column of the one-hot encoded labels\n"
   ]
  },
  {
   "cell_type": "code",
   "execution_count": 39,
   "id": "ce1b2347",
   "metadata": {
    "execution": {
     "iopub.execute_input": "2024-04-06T11:35:49.905689Z",
     "iopub.status.busy": "2024-04-06T11:35:49.905214Z",
     "iopub.status.idle": "2024-04-06T11:35:49.911378Z",
     "shell.execute_reply": "2024-04-06T11:35:49.910628Z"
    },
    "papermill": {
     "duration": 14.908457,
     "end_time": "2024-04-06T11:35:49.913430",
     "exception": false,
     "start_time": "2024-04-06T11:35:35.004973",
     "status": "completed"
    },
    "tags": []
   },
   "outputs": [
    {
     "data": {
      "text/plain": [
       "(5575,)"
      ]
     },
     "execution_count": 39,
     "metadata": {},
     "output_type": "execute_result"
    }
   ],
   "source": [
    "y.shape"
   ]
  },
  {
   "cell_type": "code",
   "execution_count": 40,
   "id": "937a9749",
   "metadata": {
    "execution": {
     "iopub.execute_input": "2024-04-06T11:36:19.733858Z",
     "iopub.status.busy": "2024-04-06T11:36:19.733139Z",
     "iopub.status.idle": "2024-04-06T11:36:19.739929Z",
     "shell.execute_reply": "2024-04-06T11:36:19.738891Z"
    },
    "papermill": {
     "duration": 15.004599,
     "end_time": "2024-04-06T11:36:19.742156",
     "exception": false,
     "start_time": "2024-04-06T11:36:04.737557",
     "status": "completed"
    },
    "tags": []
   },
   "outputs": [
    {
     "data": {
      "text/plain": [
       "(1, 100)"
      ]
     },
     "execution_count": 40,
     "metadata": {},
     "output_type": "execute_result"
    }
   ],
   "source": [
    "X[0].reshape(1,-1).shape"
   ]
  },
  {
   "cell_type": "code",
   "execution_count": 41,
   "id": "bfdd2bc5",
   "metadata": {
    "execution": {
     "iopub.execute_input": "2024-04-06T11:36:49.532427Z",
     "iopub.status.busy": "2024-04-06T11:36:49.532028Z",
     "iopub.status.idle": "2024-04-06T11:36:49.539069Z",
     "shell.execute_reply": "2024-04-06T11:36:49.538271Z"
    },
    "papermill": {
     "duration": 14.987712,
     "end_time": "2024-04-06T11:36:49.541109",
     "exception": false,
     "start_time": "2024-04-06T11:36:34.553397",
     "status": "completed"
    },
    "tags": []
   },
   "outputs": [],
   "source": [
    "import pandas as pd\n",
    "\n",
    "dfs = []  # Initialize an empty list to store DataFrames\n",
    "\n",
    "for i in range(len(X)):\n",
    "    dfs.append(pd.DataFrame(X[i].reshape(1, -1)))\n",
    "\n",
    "df = pd.concat(dfs, ignore_index=True)\n",
    "\n",
    "# Now df contains all the independent features concatenated row-wise\n",
    "\n",
    "    "
   ]
  },
  {
   "cell_type": "code",
   "execution_count": 42,
   "id": "29187912",
   "metadata": {
    "execution": {
     "iopub.execute_input": "2024-04-06T11:37:19.479291Z",
     "iopub.status.busy": "2024-04-06T11:37:19.478905Z",
     "iopub.status.idle": "2024-04-06T11:37:19.504789Z",
     "shell.execute_reply": "2024-04-06T11:37:19.503894Z"
    },
    "papermill": {
     "duration": 15.003534,
     "end_time": "2024-04-06T11:37:19.506809",
     "exception": false,
     "start_time": "2024-04-06T11:37:04.503275",
     "status": "completed"
    },
    "tags": []
   },
   "outputs": [
    {
     "data": {
      "text/html": [
       "<div>\n",
       "<style scoped>\n",
       "    .dataframe tbody tr th:only-of-type {\n",
       "        vertical-align: middle;\n",
       "    }\n",
       "\n",
       "    .dataframe tbody tr th {\n",
       "        vertical-align: top;\n",
       "    }\n",
       "\n",
       "    .dataframe thead th {\n",
       "        text-align: right;\n",
       "    }\n",
       "</style>\n",
       "<table border=\"1\" class=\"dataframe\">\n",
       "  <thead>\n",
       "    <tr style=\"text-align: right;\">\n",
       "      <th></th>\n",
       "      <th>0</th>\n",
       "      <th>1</th>\n",
       "      <th>2</th>\n",
       "      <th>3</th>\n",
       "      <th>4</th>\n",
       "      <th>5</th>\n",
       "      <th>6</th>\n",
       "      <th>7</th>\n",
       "      <th>8</th>\n",
       "      <th>9</th>\n",
       "      <th>...</th>\n",
       "      <th>90</th>\n",
       "      <th>91</th>\n",
       "      <th>92</th>\n",
       "      <th>93</th>\n",
       "      <th>94</th>\n",
       "      <th>95</th>\n",
       "      <th>96</th>\n",
       "      <th>97</th>\n",
       "      <th>98</th>\n",
       "      <th>99</th>\n",
       "    </tr>\n",
       "  </thead>\n",
       "  <tbody>\n",
       "    <tr>\n",
       "      <th>0</th>\n",
       "      <td>-0.004396</td>\n",
       "      <td>0.0052</td>\n",
       "      <td>0.003987</td>\n",
       "      <td>0.005648</td>\n",
       "      <td>-0.000046</td>\n",
       "      <td>-0.004553</td>\n",
       "      <td>0.004744</td>\n",
       "      <td>0.012712</td>\n",
       "      <td>-0.010761</td>\n",
       "      <td>-0.008279</td>\n",
       "      <td>...</td>\n",
       "      <td>0.005184</td>\n",
       "      <td>0.003528</td>\n",
       "      <td>0.003091</td>\n",
       "      <td>-0.001428</td>\n",
       "      <td>0.011083</td>\n",
       "      <td>0.003683</td>\n",
       "      <td>0.005153</td>\n",
       "      <td>-0.00496</td>\n",
       "      <td>0.00165</td>\n",
       "      <td>0.004622</td>\n",
       "    </tr>\n",
       "  </tbody>\n",
       "</table>\n",
       "<p>1 rows × 100 columns</p>\n",
       "</div>"
      ],
      "text/plain": [
       "         0       1         2         3         4         5         6   \\\n",
       "0 -0.004396  0.0052  0.003987  0.005648 -0.000046 -0.004553  0.004744   \n",
       "\n",
       "         7         8         9   ...        90        91        92        93  \\\n",
       "0  0.012712 -0.010761 -0.008279  ...  0.005184  0.003528  0.003091 -0.001428   \n",
       "\n",
       "         94        95        96       97       98        99  \n",
       "0  0.011083  0.003683  0.005153 -0.00496  0.00165  0.004622  \n",
       "\n",
       "[1 rows x 100 columns]"
      ]
     },
     "execution_count": 42,
     "metadata": {},
     "output_type": "execute_result"
    }
   ],
   "source": [
    "df.head()"
   ]
  },
  {
   "cell_type": "code",
   "execution_count": 43,
   "id": "8a0cc8ed",
   "metadata": {
    "execution": {
     "iopub.execute_input": "2024-04-06T11:37:49.213001Z",
     "iopub.status.busy": "2024-04-06T11:37:49.212602Z",
     "iopub.status.idle": "2024-04-06T11:37:49.222135Z",
     "shell.execute_reply": "2024-04-06T11:37:49.220731Z"
    },
    "papermill": {
     "duration": 14.783963,
     "end_time": "2024-04-06T11:37:49.224217",
     "exception": false,
     "start_time": "2024-04-06T11:37:34.440254",
     "status": "completed"
    },
    "tags": []
   },
   "outputs": [
    {
     "name": "stdout",
     "output_type": "stream",
     "text": [
      "5575\n",
      "1\n"
     ]
    }
   ],
   "source": [
    "import pandas as pd\n",
    "\n",
    "# Assuming 'y' and 'df' are defined\n",
    "\n",
    "# Check the lengths of 'y' and 'df'\n",
    "print(len(y))\n",
    "print(len(df))\n",
    "\n",
    "# If the lengths don't match, you need to ensure they match before assigning values\n",
    "# For example, if 'y' is a numpy array or a list, you can convert it to a pandas Series\n",
    "# and then assign it to a new column in the DataFrame 'df'\n",
    "\n",
    "df['Output'] = pd.Series(y)\n",
    "\n",
    "# Now 'df' should have a new column 'Output' containing the values from 'y'\n"
   ]
  },
  {
   "cell_type": "code",
   "execution_count": 44,
   "id": "d9600c26",
   "metadata": {
    "execution": {
     "iopub.execute_input": "2024-04-06T11:38:19.031336Z",
     "iopub.status.busy": "2024-04-06T11:38:19.030600Z",
     "iopub.status.idle": "2024-04-06T11:38:19.052480Z",
     "shell.execute_reply": "2024-04-06T11:38:19.051412Z"
    },
    "papermill": {
     "duration": 14.84545,
     "end_time": "2024-04-06T11:38:19.054862",
     "exception": false,
     "start_time": "2024-04-06T11:38:04.209412",
     "status": "completed"
    },
    "tags": []
   },
   "outputs": [
    {
     "data": {
      "text/html": [
       "<div>\n",
       "<style scoped>\n",
       "    .dataframe tbody tr th:only-of-type {\n",
       "        vertical-align: middle;\n",
       "    }\n",
       "\n",
       "    .dataframe tbody tr th {\n",
       "        vertical-align: top;\n",
       "    }\n",
       "\n",
       "    .dataframe thead th {\n",
       "        text-align: right;\n",
       "    }\n",
       "</style>\n",
       "<table border=\"1\" class=\"dataframe\">\n",
       "  <thead>\n",
       "    <tr style=\"text-align: right;\">\n",
       "      <th></th>\n",
       "      <th>0</th>\n",
       "      <th>1</th>\n",
       "      <th>2</th>\n",
       "      <th>3</th>\n",
       "      <th>4</th>\n",
       "      <th>5</th>\n",
       "      <th>6</th>\n",
       "      <th>7</th>\n",
       "      <th>8</th>\n",
       "      <th>9</th>\n",
       "      <th>...</th>\n",
       "      <th>91</th>\n",
       "      <th>92</th>\n",
       "      <th>93</th>\n",
       "      <th>94</th>\n",
       "      <th>95</th>\n",
       "      <th>96</th>\n",
       "      <th>97</th>\n",
       "      <th>98</th>\n",
       "      <th>99</th>\n",
       "      <th>Output</th>\n",
       "    </tr>\n",
       "  </thead>\n",
       "  <tbody>\n",
       "    <tr>\n",
       "      <th>0</th>\n",
       "      <td>-0.004396</td>\n",
       "      <td>0.0052</td>\n",
       "      <td>0.003987</td>\n",
       "      <td>0.005648</td>\n",
       "      <td>-0.000046</td>\n",
       "      <td>-0.004553</td>\n",
       "      <td>0.004744</td>\n",
       "      <td>0.012712</td>\n",
       "      <td>-0.010761</td>\n",
       "      <td>-0.008279</td>\n",
       "      <td>...</td>\n",
       "      <td>0.003528</td>\n",
       "      <td>0.003091</td>\n",
       "      <td>-0.001428</td>\n",
       "      <td>0.011083</td>\n",
       "      <td>0.003683</td>\n",
       "      <td>0.005153</td>\n",
       "      <td>-0.00496</td>\n",
       "      <td>0.00165</td>\n",
       "      <td>0.004622</td>\n",
       "      <td>False</td>\n",
       "    </tr>\n",
       "  </tbody>\n",
       "</table>\n",
       "<p>1 rows × 101 columns</p>\n",
       "</div>"
      ],
      "text/plain": [
       "          0       1         2         3         4         5         6  \\\n",
       "0 -0.004396  0.0052  0.003987  0.005648 -0.000046 -0.004553  0.004744   \n",
       "\n",
       "          7         8         9  ...        91        92        93        94  \\\n",
       "0  0.012712 -0.010761 -0.008279  ...  0.003528  0.003091 -0.001428  0.011083   \n",
       "\n",
       "         95        96       97       98        99  Output  \n",
       "0  0.003683  0.005153 -0.00496  0.00165  0.004622   False  \n",
       "\n",
       "[1 rows x 101 columns]"
      ]
     },
     "execution_count": 44,
     "metadata": {},
     "output_type": "execute_result"
    }
   ],
   "source": [
    "df.head()"
   ]
  },
  {
   "cell_type": "code",
   "execution_count": 45,
   "id": "8d074159",
   "metadata": {
    "execution": {
     "iopub.execute_input": "2024-04-06T11:38:48.944364Z",
     "iopub.status.busy": "2024-04-06T11:38:48.943518Z",
     "iopub.status.idle": "2024-04-06T11:38:48.949812Z",
     "shell.execute_reply": "2024-04-06T11:38:48.948918Z"
    },
    "papermill": {
     "duration": 14.977291,
     "end_time": "2024-04-06T11:38:48.952167",
     "exception": false,
     "start_time": "2024-04-06T11:38:33.974876",
     "status": "completed"
    },
    "tags": []
   },
   "outputs": [],
   "source": [
    "df.dropna(inplace=True)"
   ]
  },
  {
   "cell_type": "code",
   "execution_count": 46,
   "id": "133317c5",
   "metadata": {
    "execution": {
     "iopub.execute_input": "2024-04-06T11:39:18.899479Z",
     "iopub.status.busy": "2024-04-06T11:39:18.899115Z",
     "iopub.status.idle": "2024-04-06T11:39:18.909016Z",
     "shell.execute_reply": "2024-04-06T11:39:18.908063Z"
    },
    "papermill": {
     "duration": 15.018062,
     "end_time": "2024-04-06T11:39:18.911202",
     "exception": false,
     "start_time": "2024-04-06T11:39:03.893140",
     "status": "completed"
    },
    "tags": []
   },
   "outputs": [
    {
     "data": {
      "text/plain": [
       "0         0\n",
       "1         0\n",
       "2         0\n",
       "3         0\n",
       "4         0\n",
       "         ..\n",
       "96        0\n",
       "97        0\n",
       "98        0\n",
       "99        0\n",
       "Output    0\n",
       "Length: 101, dtype: int64"
      ]
     },
     "execution_count": 46,
     "metadata": {},
     "output_type": "execute_result"
    }
   ],
   "source": [
    "df.isnull().sum()"
   ]
  },
  {
   "cell_type": "code",
   "execution_count": 47,
   "id": "e1150e19",
   "metadata": {
    "execution": {
     "iopub.execute_input": "2024-04-06T11:39:48.773808Z",
     "iopub.status.busy": "2024-04-06T11:39:48.773108Z",
     "iopub.status.idle": "2024-04-06T11:39:48.777092Z",
     "shell.execute_reply": "2024-04-06T11:39:48.776278Z"
    },
    "papermill": {
     "duration": 15.012812,
     "end_time": "2024-04-06T11:39:48.779223",
     "exception": false,
     "start_time": "2024-04-06T11:39:33.766411",
     "status": "completed"
    },
    "tags": []
   },
   "outputs": [],
   "source": [
    "## Independent Feature\n",
    "X=df"
   ]
  },
  {
   "cell_type": "code",
   "execution_count": 48,
   "id": "11e35517",
   "metadata": {
    "execution": {
     "iopub.execute_input": "2024-04-06T11:40:18.466847Z",
     "iopub.status.busy": "2024-04-06T11:40:18.466429Z",
     "iopub.status.idle": "2024-04-06T11:40:18.476445Z",
     "shell.execute_reply": "2024-04-06T11:40:18.475365Z"
    },
    "papermill": {
     "duration": 14.908898,
     "end_time": "2024-04-06T11:40:18.478999",
     "exception": false,
     "start_time": "2024-04-06T11:40:03.570101",
     "status": "completed"
    },
    "tags": []
   },
   "outputs": [
    {
     "data": {
      "text/plain": [
       "0         0\n",
       "1         0\n",
       "2         0\n",
       "3         0\n",
       "4         0\n",
       "         ..\n",
       "96        0\n",
       "97        0\n",
       "98        0\n",
       "99        0\n",
       "Output    0\n",
       "Length: 101, dtype: int64"
      ]
     },
     "execution_count": 48,
     "metadata": {},
     "output_type": "execute_result"
    }
   ],
   "source": [
    "X.isnull().sum()"
   ]
  },
  {
   "cell_type": "code",
   "execution_count": 49,
   "id": "94151c1f",
   "metadata": {
    "execution": {
     "iopub.execute_input": "2024-04-06T11:40:48.278095Z",
     "iopub.status.busy": "2024-04-06T11:40:48.277684Z",
     "iopub.status.idle": "2024-04-06T11:40:48.285858Z",
     "shell.execute_reply": "2024-04-06T11:40:48.284480Z"
    },
    "papermill": {
     "duration": 14.94625,
     "end_time": "2024-04-06T11:40:48.288320",
     "exception": false,
     "start_time": "2024-04-06T11:40:33.342070",
     "status": "completed"
    },
    "tags": []
   },
   "outputs": [],
   "source": [
    "y=df['Output']"
   ]
  },
  {
   "cell_type": "code",
   "execution_count": 50,
   "id": "c81e3238",
   "metadata": {
    "execution": {
     "iopub.execute_input": "2024-04-06T11:41:18.069650Z",
     "iopub.status.busy": "2024-04-06T11:41:18.068854Z",
     "iopub.status.idle": "2024-04-06T11:41:18.077272Z",
     "shell.execute_reply": "2024-04-06T11:41:18.075922Z"
    },
    "papermill": {
     "duration": 14.778388,
     "end_time": "2024-04-06T11:41:18.079535",
     "exception": false,
     "start_time": "2024-04-06T11:41:03.301147",
     "status": "completed"
    },
    "tags": []
   },
   "outputs": [
    {
     "name": "stdout",
     "output_type": "stream",
     "text": [
      "Dataset contains too few samples to perform a train-test split.\n"
     ]
    }
   ],
   "source": [
    "from sklearn.model_selection import train_test_split\n",
    "\n",
    "# Check the number of samples in your dataset\n",
    "num_samples = len(X)\n",
    "\n",
    "if num_samples < 2:\n",
    "    print(\"Dataset contains too few samples to perform a train-test split.\")\n",
    "else:\n",
    "    # Adjust test_size parameter based on the size of your dataset\n",
    "    test_size = min(0.5, 1 / num_samples)  # Ensuring test_size is not greater than 0.5 or 1 / num_samples\n",
    "    X_train, X_test, y_train, y_test = train_test_split(X, y, test_size=test_size)\n"
   ]
  },
  {
   "cell_type": "code",
   "execution_count": 51,
   "id": "520e29f4",
   "metadata": {
    "execution": {
     "iopub.execute_input": "2024-04-06T11:41:47.887956Z",
     "iopub.status.busy": "2024-04-06T11:41:47.887500Z",
     "iopub.status.idle": "2024-04-06T11:41:48.058288Z",
     "shell.execute_reply": "2024-04-06T11:41:48.057209Z"
    },
    "papermill": {
     "duration": 14.926329,
     "end_time": "2024-04-06T11:41:48.061088",
     "exception": false,
     "start_time": "2024-04-06T11:41:33.134759",
     "status": "completed"
    },
    "tags": []
   },
   "outputs": [],
   "source": [
    "from sklearn.ensemble import RandomForestClassifier\n",
    "classifier=RandomForestClassifier()"
   ]
  },
  {
   "cell_type": "code",
   "execution_count": 52,
   "id": "ab55f978",
   "metadata": {
    "execution": {
     "iopub.execute_input": "2024-04-06T11:42:17.986406Z",
     "iopub.status.busy": "2024-04-06T11:42:17.986000Z",
     "iopub.status.idle": "2024-04-06T11:42:17.990545Z",
     "shell.execute_reply": "2024-04-06T11:42:17.989385Z"
    },
    "papermill": {
     "duration": 14.950943,
     "end_time": "2024-04-06T11:42:17.993067",
     "exception": false,
     "start_time": "2024-04-06T11:42:03.042124",
     "status": "completed"
    },
    "tags": []
   },
   "outputs": [],
   "source": [
    "#classifier.fit(X_train,y_train)\n",
    "#y_pred=classifier.predict(X_test)"
   ]
  },
  {
   "cell_type": "code",
   "execution_count": 53,
   "id": "6fea009b",
   "metadata": {
    "execution": {
     "iopub.execute_input": "2024-04-06T11:42:47.891942Z",
     "iopub.status.busy": "2024-04-06T11:42:47.891441Z",
     "iopub.status.idle": "2024-04-06T11:42:47.895593Z",
     "shell.execute_reply": "2024-04-06T11:42:47.894816Z"
    },
    "papermill": {
     "duration": 15.109582,
     "end_time": "2024-04-06T11:42:47.897478",
     "exception": false,
     "start_time": "2024-04-06T11:42:32.787896",
     "status": "completed"
    },
    "tags": []
   },
   "outputs": [],
   "source": [
    "#from sklearn.metrics import accuracy_score,classification_report\n",
    "#print(accuracy_score(y_test,y_pred))\n",
    "#print(classification_report(y_test,y_pred))"
   ]
  }
 ],
 "metadata": {
  "kaggle": {
   "accelerator": "none",
   "dataSources": [
    {
     "datasetId": 483,
     "sourceId": 982,
     "sourceType": "datasetVersion"
    }
   ],
   "dockerImageVersionId": 30673,
   "isGpuEnabled": false,
   "isInternetEnabled": true,
   "language": "python",
   "sourceType": "notebook"
  },
  "kernelspec": {
   "display_name": "Python 3 (ipykernel)",
   "language": "python",
   "name": "python3"
  },
  "language_info": {
   "codemirror_mode": {
    "name": "ipython",
    "version": 3
   },
   "file_extension": ".py",
   "mimetype": "text/x-python",
   "name": "python",
   "nbconvert_exporter": "python",
   "pygments_lexer": "ipython3",
   "version": "3.10.8"
  },
  "papermill": {
   "default_parameters": {},
   "duration": 1833.891147,
   "end_time": "2024-04-06T11:43:04.412557",
   "environment_variables": {},
   "exception": null,
   "input_path": "__notebook__.ipynb",
   "output_path": "__notebook__.ipynb",
   "parameters": {},
   "start_time": "2024-04-06T11:12:30.521410",
   "version": "2.5.0"
  }
 },
 "nbformat": 4,
 "nbformat_minor": 5
}
